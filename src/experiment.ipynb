{
 "cells": [
  {
   "cell_type": "code",
   "execution_count": null,
   "metadata": {},
   "outputs": [],
   "source": [
    "import os\n",
    "import subprocess\n",
    "\n",
    "# Define the path to the audios folder\n",
    "current_file = os.path.abspath(__file__ if '__file__' in globals() else os.getcwd())\n",
    "repo_root = os.path.dirname(os.path.dirname(current_file))\n",
    "audios_folder = os.path.join(repo_root, 'audios')\n",
    "\n",
    "# Loop through all files in the audios folder\n",
    "for filename in os.listdir(audios_folder):\n",
    "    if filename.endswith('.opus'):\n",
    "        # Define the full path to the input and output files\n",
    "        input_file = os.path.join(audios_folder, filename)\n",
    "        output_file = os.path.join(audios_folder, os.path.splitext(filename)[0] + '.mp3')\n",
    "        \n",
    "        # Convert the .opus file using ffmpeg\n",
    "        subprocess.run(['ffmpeg', '-i', input_file, '-codec:a', 'libmp3lame', '-qscale:a', '2', output_file])\n",
    "        \n",
    "        print(f'Converted {input_file} to {output_file}')"
   ]
  }
 ],
 "metadata": {
  "kernelspec": {
   "display_name": "3.12.0",
   "language": "python",
   "name": "python3"
  },
  "language_info": {
   "codemirror_mode": {
    "name": "ipython",
    "version": 3
   },
   "file_extension": ".py",
   "mimetype": "text/x-python",
   "name": "python",
   "nbconvert_exporter": "python",
   "pygments_lexer": "ipython3",
   "version": "3.12.0"
  }
 },
 "nbformat": 4,
 "nbformat_minor": 2
}
