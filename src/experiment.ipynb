{
 "cells": [
  {
   "cell_type": "code",
   "execution_count": 1,
   "metadata": {},
   "outputs": [
    {
     "name": "stderr",
     "output_type": "stream",
     "text": [
      "ffmpeg version 7.1 Copyright (c) 2000-2024 the FFmpeg developers\n",
      "  built with Apple clang version 16.0.0 (clang-1600.0.26.4)\n",
      "  configuration: --prefix=/opt/homebrew/Cellar/ffmpeg/7.1_3 --enable-shared --enable-pthreads --enable-version3 --cc=clang --host-cflags= --host-ldflags='-Wl,-ld_classic' --enable-ffplay --enable-gnutls --enable-gpl --enable-libaom --enable-libaribb24 --enable-libbluray --enable-libdav1d --enable-libharfbuzz --enable-libjxl --enable-libmp3lame --enable-libopus --enable-librav1e --enable-librist --enable-librubberband --enable-libsnappy --enable-libsrt --enable-libssh --enable-libsvtav1 --enable-libtesseract --enable-libtheora --enable-libvidstab --enable-libvmaf --enable-libvorbis --enable-libvpx --enable-libwebp --enable-libx264 --enable-libx265 --enable-libxml2 --enable-libxvid --enable-lzma --enable-libfontconfig --enable-libfreetype --enable-frei0r --enable-libass --enable-libopencore-amrnb --enable-libopencore-amrwb --enable-libopenjpeg --enable-libspeex --enable-libsoxr --enable-libzmq --enable-libzimg --disable-libjack --disable-indev=jack --enable-videotoolbox --enable-audiotoolbox --enable-neon\n",
      "  libavutil      59. 39.100 / 59. 39.100\n",
      "  libavcodec     61. 19.100 / 61. 19.100\n",
      "  libavformat    61.  7.100 / 61.  7.100\n",
      "  libavdevice    61.  3.100 / 61.  3.100\n",
      "  libavfilter    10.  4.100 / 10.  4.100\n",
      "  libswscale      8.  3.100 /  8.  3.100\n",
      "  libswresample   5.  3.100 /  5.  3.100\n",
      "  libpostproc    58.  3.100 / 58.  3.100\n",
      "Input #0, ogg, from '/Users/wenqingli/Documents/repos/audio classifier/audios/ASMR Bakery - ASMR Ethereal Triggers for Stress Relief and Falling Asleep (No Talking).opus':\n",
      "  Duration: 01:34:00.99, start: 0.007500, bitrate: 129 kb/s\n",
      "  Stream #0:0(eng): Audio: opus, 48000 Hz, stereo, fltp\n",
      "      Metadata:\n",
      "        encoder         : Lavf61.1.100\n",
      "Stream mapping:\n",
      "  Stream #0:0 -> #0:0 (opus (native) -> mp3 (libmp3lame))\n",
      "Press [q] to stop, [?] for help\n",
      "Output #0, mp3, to '/Users/wenqingli/Documents/repos/audio classifier/audios/ASMR Bakery - ASMR Ethereal Triggers for Stress Relief and Falling Asleep (No Talking).mp3':\n",
      "  Metadata:\n",
      "    TSSE            : Lavf61.7.100\n",
      "  Stream #0:0(eng): Audio: mp3, 48000 Hz, stereo, fltp\n",
      "      Metadata:\n",
      "        encoder         : Lavc61.19.100 libmp3lame\n",
      "[out#0/mp3 @ 0x145822e70] video:0KiB audio:126712KiB subtitle:0KiB other streams:0KiB global headers:0KiB muxing overhead: 0.000182%\n",
      "size=  126712KiB time=01:34:00.97 bitrate= 184.0kbits/s speed= 116x    \n",
      "ffmpeg version 7.1 Copyright (c) 2000-2024 the FFmpeg developers\n",
      "  built with Apple clang version 16.0.0 (clang-1600.0.26.4)\n",
      "  configuration: --prefix=/opt/homebrew/Cellar/ffmpeg/7.1_3 --enable-shared --enable-pthreads --enable-version3 --cc=clang --host-cflags= --host-ldflags='-Wl,-ld_classic' --enable-ffplay --enable-gnutls --enable-gpl --enable-libaom --enable-libaribb24 --enable-libbluray --enable-libdav1d --enable-libharfbuzz --enable-libjxl --enable-libmp3lame --enable-libopus --enable-librav1e --enable-librist --enable-librubberband --enable-libsnappy --enable-libsrt --enable-libssh --enable-libsvtav1 --enable-libtesseract --enable-libtheora --enable-libvidstab --enable-libvmaf --enable-libvorbis --enable-libvpx --enable-libwebp --enable-libx264 --enable-libx265 --enable-libxml2 --enable-libxvid --enable-lzma --enable-libfontconfig --enable-libfreetype --enable-frei0r --enable-libass --enable-libopencore-amrnb --enable-libopencore-amrwb --enable-libopenjpeg --enable-libspeex --enable-libsoxr --enable-libzmq --enable-libzimg --disable-libjack --disable-indev=jack --enable-videotoolbox --enable-audiotoolbox --enable-neon\n",
      "  libavutil      59. 39.100 / 59. 39.100\n",
      "  libavcodec     61. 19.100 / 61. 19.100\n",
      "  libavformat    61.  7.100 / 61.  7.100\n",
      "  libavdevice    61.  3.100 / 61.  3.100\n",
      "  libavfilter    10.  4.100 / 10.  4.100\n",
      "  libswscale      8.  3.100 /  8.  3.100\n",
      "  libswresample   5.  3.100 /  5.  3.100\n",
      "  libpostproc    58.  3.100 / 58.  3.100\n",
      "Input #0, ogg, from '/Users/wenqingli/Documents/repos/audio classifier/audios/GhettoASMR Reuploads - GhettoASMR Reuploads - I Guarantee You Will LOVE These ASMR Glove Sounds.opus':\n",
      "  Duration: 00:17:25.01, start: 0.007500, bitrate: 157 kb/s\n",
      "  Stream #0:0(eng): Audio: opus, 48000 Hz, stereo, fltp\n",
      "      Metadata:\n",
      "        encoder         : Lavf61.1.100\n",
      "Stream mapping:\n",
      "  Stream #0:0 -> #0:0 (opus (native) -> mp3 (libmp3lame))\n",
      "Press [q] to stop, [?] for help\n",
      "Output #0, mp3, to '/Users/wenqingli/Documents/repos/audio classifier/audios/GhettoASMR Reuploads - GhettoASMR Reuploads - I Guarantee You Will LOVE These ASMR Glove Sounds.mp3':\n",
      "  Metadata:\n",
      "    TSSE            : Lavf61.7.100\n",
      "  Stream #0:0(eng): Audio: mp3, 48000 Hz, stereo, fltp\n",
      "      Metadata:\n",
      "        encoder         : Lavc61.19.100 libmp3lame\n"
     ]
    },
    {
     "name": "stdout",
     "output_type": "stream",
     "text": [
      "Converted /Users/wenqingli/Documents/repos/audio classifier/audios/ASMR Bakery - ASMR Ethereal Triggers for Stress Relief and Falling Asleep (No Talking).opus to /Users/wenqingli/Documents/repos/audio classifier/audios/ASMR Bakery - ASMR Ethereal Triggers for Stress Relief and Falling Asleep (No Talking).mp3\n"
     ]
    },
    {
     "name": "stderr",
     "output_type": "stream",
     "text": [
      "[out#0/mp3 @ 0x13b026de0] video:0KiB audio:31331KiB subtitle:0KiB other streams:0KiB global headers:0KiB muxing overhead: 0.000736%\n",
      "size=   31331KiB time=00:17:24.99 bitrate= 245.6kbits/s speed= 111x    \n",
      "ffmpeg version 7.1 Copyright (c) 2000-2024 the FFmpeg developers\n",
      "  built with Apple clang version 16.0.0 (clang-1600.0.26.4)\n",
      "  configuration: --prefix=/opt/homebrew/Cellar/ffmpeg/7.1_3 --enable-shared --enable-pthreads --enable-version3 --cc=clang --host-cflags= --host-ldflags='-Wl,-ld_classic' --enable-ffplay --enable-gnutls --enable-gpl --enable-libaom --enable-libaribb24 --enable-libbluray --enable-libdav1d --enable-libharfbuzz --enable-libjxl --enable-libmp3lame --enable-libopus --enable-librav1e --enable-librist --enable-librubberband --enable-libsnappy --enable-libsrt --enable-libssh --enable-libsvtav1 --enable-libtesseract --enable-libtheora --enable-libvidstab --enable-libvmaf --enable-libvorbis --enable-libvpx --enable-libwebp --enable-libx264 --enable-libx265 --enable-libxml2 --enable-libxvid --enable-lzma --enable-libfontconfig --enable-libfreetype --enable-frei0r --enable-libass --enable-libopencore-amrnb --enable-libopencore-amrwb --enable-libopenjpeg --enable-libspeex --enable-libsoxr --enable-libzmq --enable-libzimg --disable-libjack --disable-indev=jack --enable-videotoolbox --enable-audiotoolbox --enable-neon\n",
      "  libavutil      59. 39.100 / 59. 39.100\n",
      "  libavcodec     61. 19.100 / 61. 19.100\n",
      "  libavformat    61.  7.100 / 61.  7.100\n",
      "  libavdevice    61.  3.100 / 61.  3.100\n",
      "  libavfilter    10.  4.100 / 10.  4.100\n",
      "  libswscale      8.  3.100 /  8.  3.100\n",
      "  libswresample   5.  3.100 /  5.  3.100\n",
      "  libpostproc    58.  3.100 / 58.  3.100\n",
      "Input #0, ogg, from '/Users/wenqingli/Documents/repos/audio classifier/audios/GhettoASMR Reuploads - ASMR Sending Chills Down Your Back With Fast Tapping Tingleworks.opus':\n",
      "  Duration: 00:19:54.91, start: 0.007500, bitrate: 162 kb/s\n",
      "  Stream #0:0(eng): Audio: opus, 48000 Hz, stereo, fltp\n",
      "      Metadata:\n",
      "        encoder         : Lavf61.1.100\n",
      "Stream mapping:\n",
      "  Stream #0:0 -> #0:0 (opus (native) -> mp3 (libmp3lame))\n",
      "Press [q] to stop, [?] for help\n",
      "Output #0, mp3, to '/Users/wenqingli/Documents/repos/audio classifier/audios/GhettoASMR Reuploads - ASMR Sending Chills Down Your Back With Fast Tapping Tingleworks.mp3':\n",
      "  Metadata:\n",
      "    TSSE            : Lavf61.7.100\n",
      "  Stream #0:0(eng): Audio: mp3, 48000 Hz, stereo, fltp\n",
      "      Metadata:\n",
      "        encoder         : Lavc61.19.100 libmp3lame\n"
     ]
    },
    {
     "name": "stdout",
     "output_type": "stream",
     "text": [
      "Converted /Users/wenqingli/Documents/repos/audio classifier/audios/GhettoASMR Reuploads - GhettoASMR Reuploads - I Guarantee You Will LOVE These ASMR Glove Sounds.opus to /Users/wenqingli/Documents/repos/audio classifier/audios/GhettoASMR Reuploads - GhettoASMR Reuploads - I Guarantee You Will LOVE These ASMR Glove Sounds.mp3\n"
     ]
    },
    {
     "name": "stderr",
     "output_type": "stream",
     "text": [
      "[out#0/mp3 @ 0x1321099c0] video:0KiB audio:34820KiB subtitle:0KiB other streams:0KiB global headers:0KiB muxing overhead: 0.000662%\n",
      "size=   34820KiB time=00:19:54.89 bitrate= 238.7kbits/s speed= 106x    \n",
      "ffmpeg version 7.1 Copyright (c) 2000-2024 the FFmpeg developers\n",
      "  built with Apple clang version 16.0.0 (clang-1600.0.26.4)\n",
      "  configuration: --prefix=/opt/homebrew/Cellar/ffmpeg/7.1_3 --enable-shared --enable-pthreads --enable-version3 --cc=clang --host-cflags= --host-ldflags='-Wl,-ld_classic' --enable-ffplay --enable-gnutls --enable-gpl --enable-libaom --enable-libaribb24 --enable-libbluray --enable-libdav1d --enable-libharfbuzz --enable-libjxl --enable-libmp3lame --enable-libopus --enable-librav1e --enable-librist --enable-librubberband --enable-libsnappy --enable-libsrt --enable-libssh --enable-libsvtav1 --enable-libtesseract --enable-libtheora --enable-libvidstab --enable-libvmaf --enable-libvorbis --enable-libvpx --enable-libwebp --enable-libx264 --enable-libx265 --enable-libxml2 --enable-libxvid --enable-lzma --enable-libfontconfig --enable-libfreetype --enable-frei0r --enable-libass --enable-libopencore-amrnb --enable-libopencore-amrwb --enable-libopenjpeg --enable-libspeex --enable-libsoxr --enable-libzmq --enable-libzimg --disable-libjack --disable-indev=jack --enable-videotoolbox --enable-audiotoolbox --enable-neon\n",
      "  libavutil      59. 39.100 / 59. 39.100\n",
      "  libavcodec     61. 19.100 / 61. 19.100\n",
      "  libavformat    61.  7.100 / 61.  7.100\n",
      "  libavdevice    61.  3.100 / 61.  3.100\n",
      "  libavfilter    10.  4.100 / 10.  4.100\n",
      "  libswscale      8.  3.100 /  8.  3.100\n",
      "  libswresample   5.  3.100 /  5.  3.100\n",
      "  libpostproc    58.  3.100 / 58.  3.100\n",
      "Input #0, ogg, from '/Users/wenqingli/Documents/repos/audio classifier/audios/GhettoASMR Reuploads - WORLDS FASTEST BEST ASMR TAPPING.opus':\n",
      "  Duration: 00:26:17.23, start: 0.007500, bitrate: 176 kb/s\n",
      "  Stream #0:0(eng): Audio: opus, 48000 Hz, stereo, fltp\n",
      "      Metadata:\n",
      "        encoder         : Lavf61.1.100\n",
      "Stream mapping:\n",
      "  Stream #0:0 -> #0:0 (opus (native) -> mp3 (libmp3lame))\n",
      "Press [q] to stop, [?] for help\n",
      "Output #0, mp3, to '/Users/wenqingli/Documents/repos/audio classifier/audios/GhettoASMR Reuploads - WORLDS FASTEST BEST ASMR TAPPING.mp3':\n",
      "  Metadata:\n",
      "    TSSE            : Lavf61.7.100\n",
      "  Stream #0:0(eng): Audio: mp3, 48000 Hz, stereo, fltp\n",
      "      Metadata:\n",
      "        encoder         : Lavc61.19.100 libmp3lame\n"
     ]
    },
    {
     "name": "stdout",
     "output_type": "stream",
     "text": [
      "Converted /Users/wenqingli/Documents/repos/audio classifier/audios/GhettoASMR Reuploads - ASMR Sending Chills Down Your Back With Fast Tapping Tingleworks.opus to /Users/wenqingli/Documents/repos/audio classifier/audios/GhettoASMR Reuploads - ASMR Sending Chills Down Your Back With Fast Tapping Tingleworks.mp3\n"
     ]
    },
    {
     "name": "stderr",
     "output_type": "stream",
     "text": [
      "[out#0/mp3 @ 0x1237165d0] video:0KiB audio:51581KiB subtitle:0KiB other streams:0KiB global headers:0KiB muxing overhead: 0.000447%\n",
      "size=   51582KiB time=00:26:17.21 bitrate= 267.9kbits/s speed= 108x    \n",
      "ffmpeg version 7.1 Copyright (c) 2000-2024 the FFmpeg developers\n",
      "  built with Apple clang version 16.0.0 (clang-1600.0.26.4)\n",
      "  configuration: --prefix=/opt/homebrew/Cellar/ffmpeg/7.1_3 --enable-shared --enable-pthreads --enable-version3 --cc=clang --host-cflags= --host-ldflags='-Wl,-ld_classic' --enable-ffplay --enable-gnutls --enable-gpl --enable-libaom --enable-libaribb24 --enable-libbluray --enable-libdav1d --enable-libharfbuzz --enable-libjxl --enable-libmp3lame --enable-libopus --enable-librav1e --enable-librist --enable-librubberband --enable-libsnappy --enable-libsrt --enable-libssh --enable-libsvtav1 --enable-libtesseract --enable-libtheora --enable-libvidstab --enable-libvmaf --enable-libvorbis --enable-libvpx --enable-libwebp --enable-libx264 --enable-libx265 --enable-libxml2 --enable-libxvid --enable-lzma --enable-libfontconfig --enable-libfreetype --enable-frei0r --enable-libass --enable-libopencore-amrnb --enable-libopencore-amrwb --enable-libopenjpeg --enable-libspeex --enable-libsoxr --enable-libzmq --enable-libzimg --disable-libjack --disable-indev=jack --enable-videotoolbox --enable-audiotoolbox --enable-neon\n",
      "  libavutil      59. 39.100 / 59. 39.100\n",
      "  libavcodec     61. 19.100 / 61. 19.100\n",
      "  libavformat    61.  7.100 / 61.  7.100\n",
      "  libavdevice    61.  3.100 / 61.  3.100\n",
      "  libavfilter    10.  4.100 / 10.  4.100\n",
      "  libswscale      8.  3.100 /  8.  3.100\n",
      "  libswresample   5.  3.100 /  5.  3.100\n",
      "  libpostproc    58.  3.100 / 58.  3.100\n",
      "Input #0, ogg, from '/Users/wenqingli/Documents/repos/audio classifier/audios/ricarda - ASMR 2h wet Mouth Sounds 👄 Dripstone Cave Edition 💎 No Talking 🤫.opus':\n",
      "  Duration: 02:02:20.99, start: 0.007500, bitrate: 167 kb/s\n",
      "  Stream #0:0(eng): Audio: opus, 48000 Hz, stereo, fltp\n",
      "      Metadata:\n",
      "        encoder         : Lavf61.1.100\n",
      "Stream mapping:\n",
      "  Stream #0:0 -> #0:0 (opus (native) -> mp3 (libmp3lame))\n",
      "Press [q] to stop, [?] for help\n",
      "Output #0, mp3, to '/Users/wenqingli/Documents/repos/audio classifier/audios/ricarda - ASMR 2h wet Mouth Sounds 👄 Dripstone Cave Edition 💎 No Talking 🤫.mp3':\n",
      "  Metadata:\n",
      "    TSSE            : Lavf61.7.100\n",
      "  Stream #0:0(eng): Audio: mp3, 48000 Hz, stereo, fltp\n",
      "      Metadata:\n",
      "        encoder         : Lavc61.19.100 libmp3lame\n"
     ]
    },
    {
     "name": "stdout",
     "output_type": "stream",
     "text": [
      "Converted /Users/wenqingli/Documents/repos/audio classifier/audios/GhettoASMR Reuploads - WORLDS FASTEST BEST ASMR TAPPING.opus to /Users/wenqingli/Documents/repos/audio classifier/audios/GhettoASMR Reuploads - WORLDS FASTEST BEST ASMR TAPPING.mp3\n"
     ]
    },
    {
     "name": "stderr",
     "output_type": "stream",
     "text": [
      "[out#0/mp3 @ 0x134009840] video:0KiB audio:204063KiB subtitle:0KiB other streams:0KiB global headers:0KiB muxing overhead: 0.000113%\n",
      "size=  204063KiB time=02:02:20.97 bitrate= 227.7kbits/s speed= 111x    \n",
      "ffmpeg version 7.1 Copyright (c) 2000-2024 the FFmpeg developers\n",
      "  built with Apple clang version 16.0.0 (clang-1600.0.26.4)\n",
      "  configuration: --prefix=/opt/homebrew/Cellar/ffmpeg/7.1_3 --enable-shared --enable-pthreads --enable-version3 --cc=clang --host-cflags= --host-ldflags='-Wl,-ld_classic' --enable-ffplay --enable-gnutls --enable-gpl --enable-libaom --enable-libaribb24 --enable-libbluray --enable-libdav1d --enable-libharfbuzz --enable-libjxl --enable-libmp3lame --enable-libopus --enable-librav1e --enable-librist --enable-librubberband --enable-libsnappy --enable-libsrt --enable-libssh --enable-libsvtav1 --enable-libtesseract --enable-libtheora --enable-libvidstab --enable-libvmaf --enable-libvorbis --enable-libvpx --enable-libwebp --enable-libx264 --enable-libx265 --enable-libxml2 --enable-libxvid --enable-lzma --enable-libfontconfig --enable-libfreetype --enable-frei0r --enable-libass --enable-libopencore-amrnb --enable-libopencore-amrwb --enable-libopenjpeg --enable-libspeex --enable-libsoxr --enable-libzmq --enable-libzimg --disable-libjack --disable-indev=jack --enable-videotoolbox --enable-audiotoolbox --enable-neon\n",
      "  libavutil      59. 39.100 / 59. 39.100\n",
      "  libavcodec     61. 19.100 / 61. 19.100\n",
      "  libavformat    61.  7.100 / 61.  7.100\n",
      "  libavdevice    61.  3.100 / 61.  3.100\n",
      "  libavfilter    10.  4.100 / 10.  4.100\n",
      "  libswscale      8.  3.100 /  8.  3.100\n",
      "  libswresample   5.  3.100 /  5.  3.100\n",
      "  libpostproc    58.  3.100 / 58.  3.100\n",
      "Input #0, ogg, from '/Users/wenqingli/Documents/repos/audio classifier/audios/ricarda - ASMR 4h wet Mouth Sounds 👄 with Finger Fluttering & Hand Sounds 👋🏼 NO TALKING 🤫.opus':\n",
      "  Duration: 04:00:00.39, start: 0.007500, bitrate: 177 kb/s\n",
      "  Stream #0:0(eng): Audio: opus, 48000 Hz, stereo, fltp\n",
      "      Metadata:\n",
      "        encoder         : Lavf61.1.100\n",
      "Stream mapping:\n",
      "  Stream #0:0 -> #0:0 (opus (native) -> mp3 (libmp3lame))\n",
      "Press [q] to stop, [?] for help\n",
      "Output #0, mp3, to '/Users/wenqingli/Documents/repos/audio classifier/audios/ricarda - ASMR 4h wet Mouth Sounds 👄 with Finger Fluttering & Hand Sounds 👋🏼 NO TALKING 🤫.mp3':\n",
      "  Metadata:\n",
      "    TSSE            : Lavf61.7.100\n",
      "  Stream #0:0(eng): Audio: mp3, 48000 Hz, stereo, fltp\n",
      "      Metadata:\n",
      "        encoder         : Lavc61.19.100 libmp3lame\n"
     ]
    },
    {
     "name": "stdout",
     "output_type": "stream",
     "text": [
      "Converted /Users/wenqingli/Documents/repos/audio classifier/audios/ricarda - ASMR 2h wet Mouth Sounds 👄 Dripstone Cave Edition 💎 No Talking 🤫.opus to /Users/wenqingli/Documents/repos/audio classifier/audios/ricarda - ASMR 2h wet Mouth Sounds 👄 Dripstone Cave Edition 💎 No Talking 🤫.mp3\n"
     ]
    },
    {
     "name": "stderr",
     "output_type": "stream",
     "text": [
      "[out#0/mp3 @ 0x139e13680] video:0KiB audio:460046KiB subtitle:0KiB other streams:0KiB global headers:0KiB muxing overhead: 0.000050%\n",
      "size=  460046KiB time=04:00:00.37 bitrate= 261.7kbits/s speed= 105x    \n",
      "ffmpeg version 7.1 Copyright (c) 2000-2024 the FFmpeg developers\n",
      "  built with Apple clang version 16.0.0 (clang-1600.0.26.4)\n",
      "  configuration: --prefix=/opt/homebrew/Cellar/ffmpeg/7.1_3 --enable-shared --enable-pthreads --enable-version3 --cc=clang --host-cflags= --host-ldflags='-Wl,-ld_classic' --enable-ffplay --enable-gnutls --enable-gpl --enable-libaom --enable-libaribb24 --enable-libbluray --enable-libdav1d --enable-libharfbuzz --enable-libjxl --enable-libmp3lame --enable-libopus --enable-librav1e --enable-librist --enable-librubberband --enable-libsnappy --enable-libsrt --enable-libssh --enable-libsvtav1 --enable-libtesseract --enable-libtheora --enable-libvidstab --enable-libvmaf --enable-libvorbis --enable-libvpx --enable-libwebp --enable-libx264 --enable-libx265 --enable-libxml2 --enable-libxvid --enable-lzma --enable-libfontconfig --enable-libfreetype --enable-frei0r --enable-libass --enable-libopencore-amrnb --enable-libopencore-amrwb --enable-libopenjpeg --enable-libspeex --enable-libsoxr --enable-libzmq --enable-libzimg --disable-libjack --disable-indev=jack --enable-videotoolbox --enable-audiotoolbox --enable-neon\n",
      "  libavutil      59. 39.100 / 59. 39.100\n",
      "  libavcodec     61. 19.100 / 61. 19.100\n",
      "  libavformat    61.  7.100 / 61.  7.100\n",
      "  libavdevice    61.  3.100 / 61.  3.100\n",
      "  libavfilter    10.  4.100 / 10.  4.100\n",
      "  libswscale      8.  3.100 /  8.  3.100\n",
      "  libswresample   5.  3.100 /  5.  3.100\n",
      "  libpostproc    58.  3.100 / 58.  3.100\n",
      "Input #0, ogg, from '/Users/wenqingli/Documents/repos/audio classifier/audios/ASMR Bakery - ASMR Brain Circular Scratching Puts You to Sleep (No Talking).opus':\n",
      "  Duration: 01:06:31.51, start: 0.007500, bitrate: 132 kb/s\n",
      "  Stream #0:0(eng): Audio: opus, 48000 Hz, stereo, fltp\n",
      "      Metadata:\n",
      "        encoder         : Lavf61.1.100\n",
      "Stream mapping:\n",
      "  Stream #0:0 -> #0:0 (opus (native) -> mp3 (libmp3lame))\n",
      "Press [q] to stop, [?] for help\n",
      "Output #0, mp3, to '/Users/wenqingli/Documents/repos/audio classifier/audios/ASMR Bakery - ASMR Brain Circular Scratching Puts You to Sleep (No Talking).mp3':\n",
      "  Metadata:\n",
      "    TSSE            : Lavf61.7.100\n",
      "  Stream #0:0(eng): Audio: mp3, 48000 Hz, stereo, fltp\n",
      "      Metadata:\n",
      "        encoder         : Lavc61.19.100 libmp3lame\n"
     ]
    },
    {
     "name": "stdout",
     "output_type": "stream",
     "text": [
      "Converted /Users/wenqingli/Documents/repos/audio classifier/audios/ricarda - ASMR 4h wet Mouth Sounds 👄 with Finger Fluttering & Hand Sounds 👋🏼 NO TALKING 🤫.opus to /Users/wenqingli/Documents/repos/audio classifier/audios/ricarda - ASMR 4h wet Mouth Sounds 👄 with Finger Fluttering & Hand Sounds 👋🏼 NO TALKING 🤫.mp3\n"
     ]
    },
    {
     "name": "stderr",
     "output_type": "stream",
     "text": [
      "[out#0/mp3 @ 0x12c808ac0] video:0KiB audio:98463KiB subtitle:0KiB other streams:0KiB global headers:0KiB muxing overhead: 0.000234%\n",
      "size=   98463KiB time=01:06:31.49 bitrate= 202.1kbits/s speed= 111x    \n",
      "ffmpeg version 7.1 Copyright (c) 2000-2024 the FFmpeg developers\n",
      "  built with Apple clang version 16.0.0 (clang-1600.0.26.4)\n",
      "  configuration: --prefix=/opt/homebrew/Cellar/ffmpeg/7.1_3 --enable-shared --enable-pthreads --enable-version3 --cc=clang --host-cflags= --host-ldflags='-Wl,-ld_classic' --enable-ffplay --enable-gnutls --enable-gpl --enable-libaom --enable-libaribb24 --enable-libbluray --enable-libdav1d --enable-libharfbuzz --enable-libjxl --enable-libmp3lame --enable-libopus --enable-librav1e --enable-librist --enable-librubberband --enable-libsnappy --enable-libsrt --enable-libssh --enable-libsvtav1 --enable-libtesseract --enable-libtheora --enable-libvidstab --enable-libvmaf --enable-libvorbis --enable-libvpx --enable-libwebp --enable-libx264 --enable-libx265 --enable-libxml2 --enable-libxvid --enable-lzma --enable-libfontconfig --enable-libfreetype --enable-frei0r --enable-libass --enable-libopencore-amrnb --enable-libopencore-amrwb --enable-libopenjpeg --enable-libspeex --enable-libsoxr --enable-libzmq --enable-libzimg --disable-libjack --disable-indev=jack --enable-videotoolbox --enable-audiotoolbox --enable-neon\n",
      "  libavutil      59. 39.100 / 59. 39.100\n",
      "  libavcodec     61. 19.100 / 61. 19.100\n",
      "  libavformat    61.  7.100 / 61.  7.100\n",
      "  libavdevice    61.  3.100 / 61.  3.100\n",
      "  libavfilter    10.  4.100 / 10.  4.100\n",
      "  libswscale      8.  3.100 /  8.  3.100\n",
      "  libswresample   5.  3.100 /  5.  3.100\n",
      "  libpostproc    58.  3.100 / 58.  3.100\n",
      "Input #0, ogg, from '/Users/wenqingli/Documents/repos/audio classifier/audios/ricarda - ricarda - ASMR 2h Mouth Sounds & Teeth Tapping 👄🦷 with 2 Mics 🎙️🎙️ NO TALKING 🤫.opus':\n",
      "  Duration: 02:03:26.67, start: 0.007500, bitrate: 172 kb/s\n",
      "  Stream #0:0(eng): Audio: opus, 48000 Hz, stereo, fltp\n",
      "      Metadata:\n",
      "        encoder         : Lavf61.1.100\n",
      "Stream mapping:\n",
      "  Stream #0:0 -> #0:0 (opus (native) -> mp3 (libmp3lame))\n",
      "Press [q] to stop, [?] for help\n",
      "Output #0, mp3, to '/Users/wenqingli/Documents/repos/audio classifier/audios/ricarda - ricarda - ASMR 2h Mouth Sounds & Teeth Tapping 👄🦷 with 2 Mics 🎙️🎙️ NO TALKING 🤫.mp3':\n",
      "  Metadata:\n",
      "    TSSE            : Lavf61.7.100\n",
      "  Stream #0:0(eng): Audio: mp3, 48000 Hz, stereo, fltp\n",
      "      Metadata:\n",
      "        encoder         : Lavc61.19.100 libmp3lame\n"
     ]
    },
    {
     "name": "stdout",
     "output_type": "stream",
     "text": [
      "Converted /Users/wenqingli/Documents/repos/audio classifier/audios/ASMR Bakery - ASMR Brain Circular Scratching Puts You to Sleep (No Talking).opus to /Users/wenqingli/Documents/repos/audio classifier/audios/ASMR Bakery - ASMR Brain Circular Scratching Puts You to Sleep (No Talking).mp3\n"
     ]
    },
    {
     "name": "stderr",
     "output_type": "stream",
     "text": [
      "[out#0/mp3 @ 0x123608810] video:0KiB audio:237498KiB subtitle:0KiB other streams:0KiB global headers:0KiB muxing overhead: 0.000097%\n",
      "size=  237498KiB time=02:03:26.65 bitrate= 262.7kbits/s speed= 106x    \n",
      "ffmpeg version 7.1 Copyright (c) 2000-2024 the FFmpeg developers\n",
      "  built with Apple clang version 16.0.0 (clang-1600.0.26.4)\n",
      "  configuration: --prefix=/opt/homebrew/Cellar/ffmpeg/7.1_3 --enable-shared --enable-pthreads --enable-version3 --cc=clang --host-cflags= --host-ldflags='-Wl,-ld_classic' --enable-ffplay --enable-gnutls --enable-gpl --enable-libaom --enable-libaribb24 --enable-libbluray --enable-libdav1d --enable-libharfbuzz --enable-libjxl --enable-libmp3lame --enable-libopus --enable-librav1e --enable-librist --enable-librubberband --enable-libsnappy --enable-libsrt --enable-libssh --enable-libsvtav1 --enable-libtesseract --enable-libtheora --enable-libvidstab --enable-libvmaf --enable-libvorbis --enable-libvpx --enable-libwebp --enable-libx264 --enable-libx265 --enable-libxml2 --enable-libxvid --enable-lzma --enable-libfontconfig --enable-libfreetype --enable-frei0r --enable-libass --enable-libopencore-amrnb --enable-libopencore-amrwb --enable-libopenjpeg --enable-libspeex --enable-libsoxr --enable-libzmq --enable-libzimg --disable-libjack --disable-indev=jack --enable-videotoolbox --enable-audiotoolbox --enable-neon\n",
      "  libavutil      59. 39.100 / 59. 39.100\n",
      "  libavcodec     61. 19.100 / 61. 19.100\n",
      "  libavformat    61.  7.100 / 61.  7.100\n",
      "  libavdevice    61.  3.100 / 61.  3.100\n",
      "  libavfilter    10.  4.100 / 10.  4.100\n",
      "  libswscale      8.  3.100 /  8.  3.100\n",
      "  libswresample   5.  3.100 /  5.  3.100\n",
      "  libpostproc    58.  3.100 / 58.  3.100\n",
      "Input #0, ogg, from '/Users/wenqingli/Documents/repos/audio classifier/audios/GhettoASMR Reuploads - Best ASMR Fastest Tapping Video Ever.opus':\n",
      "  Duration: 00:14:39.79, start: 0.007500, bitrate: 158 kb/s\n",
      "  Stream #0:0(eng): Audio: opus, 48000 Hz, stereo, fltp\n",
      "      Metadata:\n",
      "        encoder         : Lavf61.1.100\n",
      "Stream mapping:\n",
      "  Stream #0:0 -> #0:0 (opus (native) -> mp3 (libmp3lame))\n",
      "Press [q] to stop, [?] for help\n",
      "Output #0, mp3, to '/Users/wenqingli/Documents/repos/audio classifier/audios/GhettoASMR Reuploads - Best ASMR Fastest Tapping Video Ever.mp3':\n",
      "  Metadata:\n",
      "    TSSE            : Lavf61.7.100\n",
      "  Stream #0:0(eng): Audio: mp3, 48000 Hz, stereo, fltp\n",
      "      Metadata:\n",
      "        encoder         : Lavc61.19.100 libmp3lame\n"
     ]
    },
    {
     "name": "stdout",
     "output_type": "stream",
     "text": [
      "Converted /Users/wenqingli/Documents/repos/audio classifier/audios/ricarda - ricarda - ASMR 2h Mouth Sounds & Teeth Tapping 👄🦷 with 2 Mics 🎙️🎙️ NO TALKING 🤫.opus to /Users/wenqingli/Documents/repos/audio classifier/audios/ricarda - ricarda - ASMR 2h Mouth Sounds & Teeth Tapping 👄🦷 with 2 Mics 🎙️🎙️ NO TALKING 🤫.mp3\n"
     ]
    },
    {
     "name": "stderr",
     "output_type": "stream",
     "text": [
      "size=   24064KiB time=00:13:45.57 bitrate= 238.8kbits/s speed=96.1x    \r"
     ]
    },
    {
     "name": "stdout",
     "output_type": "stream",
     "text": [
      "Converted /Users/wenqingli/Documents/repos/audio classifier/audios/GhettoASMR Reuploads - Best ASMR Fastest Tapping Video Ever.opus to /Users/wenqingli/Documents/repos/audio classifier/audios/GhettoASMR Reuploads - Best ASMR Fastest Tapping Video Ever.mp3\n"
     ]
    },
    {
     "name": "stderr",
     "output_type": "stream",
     "text": [
      "[out#0/mp3 @ 0x155634850] video:0KiB audio:25595KiB subtitle:0KiB other streams:0KiB global headers:0KiB muxing overhead: 0.000900%\n",
      "size=   25595KiB time=00:14:39.77 bitrate= 238.3kbits/s speed=97.1x    \n"
     ]
    }
   ],
   "source": [
    "import os\n",
    "import subprocess\n",
    "\n",
    "# Define the path to the audios folder\n",
    "audios_folder = '/Users/wenqingli/Documents/repos/audio classifier/audios'\n",
    "\n",
    "# Loop through all files in the audios folder\n",
    "for filename in os.listdir(audios_folder):\n",
    "    if filename.endswith('.opus'):\n",
    "        # Define the full path to the input and output files\n",
    "        input_file = os.path.join(audios_folder, filename)\n",
    "        output_file = os.path.join(audios_folder, os.path.splitext(filename)[0] + '.mp3')\n",
    "        \n",
    "        # Convert the .opus file using ffmpeg\n",
    "        subprocess.run(['ffmpeg', '-i', input_file, '-codec:a', 'libmp3lame', '-qscale:a', '2', output_file])\n",
    "        \n",
    "        print(f'Converted {input_file} to {output_file}')"
   ]
  }
 ],
 "metadata": {
  "kernelspec": {
   "display_name": "3.12.0",
   "language": "python",
   "name": "python3"
  },
  "language_info": {
   "codemirror_mode": {
    "name": "ipython",
    "version": 3
   },
   "file_extension": ".py",
   "mimetype": "text/x-python",
   "name": "python",
   "nbconvert_exporter": "python",
   "pygments_lexer": "ipython3",
   "version": "3.12.0"
  }
 },
 "nbformat": 4,
 "nbformat_minor": 2
}
